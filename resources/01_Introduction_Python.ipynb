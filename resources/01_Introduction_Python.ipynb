{
 "cells": [
  {
   "cell_type": "markdown",
   "metadata": {},
   "source": [
    "# The basics\n",
    "Welcome to Python!\n",
    "I will give you a short intro before we start looking at you data.\n",
    "\n",
    "The most basic thing you can do in Python is doing some basic calculations (i.e., use\n",
    "it as a calculator):"
   ]
  },
  {
   "cell_type": "code",
   "execution_count": 1,
   "metadata": {},
   "outputs": [
    {
     "data": {
      "text/plain": [
       "6"
      ]
     },
     "execution_count": 1,
     "metadata": {},
     "output_type": "execute_result"
    }
   ],
   "source": [
    "1+5"
   ]
  },
  {
   "cell_type": "code",
   "execution_count": 2,
   "metadata": {},
   "outputs": [
    {
     "name": "stdout",
     "output_type": "stream",
     "text": [
      "1+2 = 3\n",
      "800-1 = 799\n",
      "2*4 = 8\n",
      "3**3 = 27\n",
      "42/42 = 1.0\n",
      "43%2 = 1\n"
     ]
    }
   ],
   "source": [
    "print('1+2', '=', 1+2) # addition\n",
    "print('800-1', '=', 800-1) # substraction\n",
    "print('2*4', '=', 2*4) # multiplication\n",
    "print('3**3', '=', 3**3) #exponentation\n",
    "print('42/42', '=', 42/42) #division\n",
    "print('43%2', '=', 43%2) #modulo"
   ]
  },
  {
   "cell_type": "markdown",
   "metadata": {},
   "source": [
    "## Variables\n",
    "One important concept of any programming languages is variables.\n",
    "A variable is basically a name that you can assign a value:"
   ]
  },
  {
   "cell_type": "code",
   "execution_count": 3,
   "metadata": {},
   "outputs": [],
   "source": [
    "my_variable = 2\n",
    "other_variable = 3"
   ]
  },
  {
   "cell_type": "markdown",
   "metadata": {},
   "source": [
    "Now you can write \"my_variable\" in the console and it will return the\n",
    "number 2:"
   ]
  },
  {
   "cell_type": "code",
   "execution_count": null,
   "metadata": {},
   "outputs": [],
   "source": []
  },
  {
   "cell_type": "markdown",
   "metadata": {},
   "source": [
    "We can also do calculations with variables and assign the result to a new one:"
   ]
  },
  {
   "cell_type": "code",
   "execution_count": 4,
   "metadata": {},
   "outputs": [
    {
     "data": {
      "text/plain": [
       "5"
      ]
     },
     "execution_count": 4,
     "metadata": {},
     "output_type": "execute_result"
    }
   ],
   "source": [
    "result = my_variable + other_variable\n",
    "result"
   ]
  },
  {
   "cell_type": "markdown",
   "metadata": {},
   "source": [
    "A Variable can also contain \"strings\". \"Strings\" is text:"
   ]
  },
  {
   "cell_type": "code",
   "execution_count": 5,
   "metadata": {},
   "outputs": [],
   "source": [
    "my_string = \"Hello World\""
   ]
  },
  {
   "cell_type": "markdown",
   "metadata": {},
   "source": [
    "In fact, variables can contain a lot of different things. Not only numbers\n",
    "When we say, a variable is of a certain \"type\" or \"class\", what we basically\n",
    "#mean is what is stored in that variable"
   ]
  },
  {
   "cell_type": "markdown",
   "metadata": {},
   "source": [
    "## Lists\n",
    "Another important and very convenient type of variables are so-called \"lists\".\n",
    "Lists are lists of numbers,variables, strings or other types:"
   ]
  },
  {
   "cell_type": "code",
   "execution_count": 6,
   "metadata": {},
   "outputs": [],
   "source": [
    "my_list = [0, 5, 3]"
   ]
  },
  {
   "cell_type": "markdown",
   "metadata": {},
   "source": [
    "We can store any kind of data in a list. And the data type can be different\n",
    "for every list item"
   ]
  },
  {
   "cell_type": "code",
   "execution_count": 7,
   "metadata": {},
   "outputs": [],
   "source": [
    "my_second_list = ['Hello World', 2.5, 10]"
   ]
  },
  {
   "cell_type": "markdown",
   "metadata": {},
   "source": [
    "We can even add elements to a list:"
   ]
  },
  {
   "cell_type": "code",
   "execution_count": 8,
   "metadata": {},
   "outputs": [],
   "source": [
    "my_second_list.append('I am new!')"
   ]
  },
  {
   "cell_type": "markdown",
   "metadata": {},
   "source": [
    "We can access items in a list by indexing, i.e. saying which element we want.\n",
    "Please be aware that the first item in a list is 0!"
   ]
  },
  {
   "cell_type": "code",
   "execution_count": 9,
   "metadata": {},
   "outputs": [
    {
     "data": {
      "text/plain": [
       "2.5"
      ]
     },
     "execution_count": 9,
     "metadata": {},
     "output_type": "execute_result"
    }
   ],
   "source": [
    "my_second_list[0] # The FIRST item\n",
    "my_second_list[1] # The SECOND item"
   ]
  },
  {
   "cell_type": "markdown",
   "metadata": {},
   "source": [
    "## Iteration\n",
    "Iterating means that we do something with each element of a list.\n",
    "This can be done with a for loop. Let's suppose we want to sum all the\n",
    "elements in our first list:"
   ]
  },
  {
   "cell_type": "code",
   "execution_count": 10,
   "metadata": {},
   "outputs": [
    {
     "name": "stdout",
     "output_type": "stream",
     "text": [
      "0\n",
      "5\n",
      "3\n"
     ]
    }
   ],
   "source": [
    "for element in my_list:\n",
    "    print(element)"
   ]
  },
  {
   "cell_type": "markdown",
   "metadata": {},
   "source": [
    "So you see how this worked: The for statement has the form of:\n",
    "for x in y:\n",
    "which means that everything that comes later AND IS INDENTED!!!! will be run\n",
    "once for each element in y and x is the current element.\n",
    "This example also shows another important concept of python:\n",
    "Indentation defines code blocks and matters.\n",
    "Consider the if statement that works quite similar:"
   ]
  },
  {
   "cell_type": "code",
   "execution_count": 2,
   "metadata": {},
   "outputs": [
    {
     "name": "stdout",
     "output_type": "stream",
     "text": [
      "x is a one\n"
     ]
    }
   ],
   "source": [
    "x = 1\n",
    "\n",
    "if x == 1:\n",
    "    print('x is a one')\n",
    "else:\n",
    "    print('x is NOT one')"
   ]
  },
  {
   "cell_type": "markdown",
   "metadata": {},
   "source": [
    "The if statement executes the code in the following code-block if the\n",
    "assertion (in this case x==1) is true. The code-block that is only executed\n",
    "in that case stops after y = 2 because the next line is less indented.\n",
    "So, the line print(y) is alway executed!"
   ]
  },
  {
   "cell_type": "markdown",
   "metadata": {},
   "source": [
    "### Looping Challenge\n",
    "\n",
    "Use the stuff you learned so far to write a for loop that goes to 100 and prints \"Winter\" on all odd numbers and \"School\" on all even numbers. \n",
    "\n",
    "**Start Counting from 1**\n",
    "\n",
    "Hint: You can use the range function to generate an range object to iterate over. Use the help() function to checkout \"range\"."
   ]
  },
  {
   "cell_type": "code",
   "execution_count": 13,
   "metadata": {},
   "outputs": [],
   "source": []
  },
  {
   "cell_type": "markdown",
   "metadata": {},
   "source": [
    "## Dictionaries\n",
    "Dictionaries are quite similar to lists in the sense that they are containers\n",
    "that hold one or more values. The main difference between lists and dictionaries\n",
    "is how you access the elements in it. Lists, as you have seen before, are\n",
    "accessed using an index, i.e. the spot in the sequence of elements in it.\n",
    "This might be a bit unconvenient at times. Consider, for example, you\n",
    "work with data from different subjects of which you know the subject_id.\n",
    "You have one data item for each subject (some score or whatever) that you\n",
    "want to store together. Now, it would be much better if we could access\n",
    "those items using the subject id."
   ]
  },
  {
   "cell_type": "code",
   "execution_count": 3,
   "metadata": {},
   "outputs": [],
   "source": [
    "my_dict = {'subject_01': 1,\n",
    "           'subject_02': 2.5,\n",
    "           'subject_03': 20}"
   ]
  },
  {
   "cell_type": "markdown",
   "metadata": {},
   "source": [
    "We can now access the contents of the dictionary by the subject_id:"
   ]
  },
  {
   "cell_type": "code",
   "execution_count": 4,
   "metadata": {},
   "outputs": [
    {
     "data": {
      "text/plain": [
       "1"
      ]
     },
     "execution_count": 4,
     "metadata": {},
     "output_type": "execute_result"
    }
   ],
   "source": [
    "my_dict['subject_01']"
   ]
  },
  {
   "cell_type": "markdown",
   "metadata": {},
   "source": [
    "You can also iterate over a dictionary. If you want to access both the \"key\"\n",
    "(i.e. what you use to identify the item) as well as the item itself, do it\n",
    "like this:"
   ]
  },
  {
   "cell_type": "code",
   "execution_count": 14,
   "metadata": {},
   "outputs": [
    {
     "name": "stdout",
     "output_type": "stream",
     "text": [
      "Key: subject_01, item: 1\n",
      "Key: subject_02, item: 2.5\n",
      "Key: subject_03, item: 20\n"
     ]
    }
   ],
   "source": [
    "for key, item in my_dict.items():\n",
    "    print('Key: ' + key + ', item: ' + str(item))"
   ]
  },
  {
   "cell_type": "markdown",
   "metadata": {},
   "source": [
    "## List & Dictionary comprehension\n",
    "\n",
    "Python has a neat way of allowing you to iterate over lists (or arrays -> will be introduced later) and dictionaries.\n",
    "These so-called list or dictionary comprehensions are essentially one-line for loops that are very fast and return can return list or a dictionary.\n",
    "\n",
    "        newlist = [expression for item in iterable]\n",
    "\n",
    "Its also possible to add a conditional\n",
    "\n",
    "        newlist = [expression for item in iterable if condition == True]\n",
    "        \n",
    "or two\n",
    "\n",
    "        newlist = [expression if condition == True else expression_2 for item in iterable]\n",
    "        \n",
    "However, if you use a lot of conditionals, comprehensions tend to get less readable so its advised to rather use a normal for loop instead.\n",
    "\n",
    "Dictionary comprehensions follow a similar syntax, but they use curly braces -> {}\n",
    "\n",
    "        dict_variable = {key:value for (key,value) in dictonary.items()}"
   ]
  },
  {
   "cell_type": "code",
   "execution_count": 21,
   "metadata": {},
   "outputs": [
    {
     "name": "stdout",
     "output_type": "stream",
     "text": [
      "['APPLE', 'BANANA', 'CHERRY', 'KIWI', 'MANGO']\n",
      "['apple', 'banana', 'mango']\n",
      "['apple', 'orange', 'cherry', 'kiwi', 'mango']\n"
     ]
    }
   ],
   "source": [
    "# List comprehension\n",
    "fruits = [\"apple\", \"banana\", \"cherry\", \"kiwi\", \"mango\"]\n",
    "\n",
    "#returns all strings upper cased\n",
    "newlist_upper = [x.upper() for x in fruits]\n",
    "\n",
    "#returns only strings that contain an a\n",
    "newlist_selected = [x for x in fruits if \"a\" in x]\n",
    "\n",
    "#replace all bananas with oranges\n",
    "newlist_orange = [x if x != \"banana\" else \"orange\" for x in fruits]\n",
    "\n",
    "print(newlist_upper)\n",
    "print(newlist_selected)\n",
    "print(newlist_orange)"
   ]
  },
  {
   "cell_type": "code",
   "execution_count": 24,
   "metadata": {},
   "outputs": [
    {
     "name": "stdout",
     "output_type": "stream",
     "text": [
      "{'a': 1, 'b': 2, 'c': 3, 'd': 4, 'e': 5}\n",
      "{'a': 2, 'b': 4, 'c': 6, 'd': 8, 'e': 10}\n"
     ]
    }
   ],
   "source": [
    "#Dictionary comprehension\n",
    "my_dict = {'a': 1, 'b': 2, 'c': 3, 'd': 4, 'e': 5}\n",
    "# Double each value in the dictionary\n",
    "double_dict = {k:v*2 for (k,v) in my_dict.items()}\n",
    "\n",
    "print(my_dict)\n",
    "print(double_dict)"
   ]
  },
  {
   "cell_type": "markdown",
   "metadata": {},
   "source": [
    "You can also make changes to the key values. If you really want to"
   ]
  },
  {
   "cell_type": "code",
   "execution_count": 28,
   "metadata": {},
   "outputs": [
    {
     "name": "stdout",
     "output_type": "stream",
     "text": [
      "{'aa': 1, 'bb': 2, 'cc': 3, 'dd': 4, 'ee': 5}\n"
     ]
    }
   ],
   "source": [
    "double_dict_keys = {k*2:v for (k,v) in my_dict.items()}\n",
    "print(double_dict_keys)"
   ]
  },
  {
   "cell_type": "markdown",
   "metadata": {},
   "source": [
    "## Sets\n",
    "\n",
    "Sets are useful when the data you are trying to organize is not ordered and if each value you are assigning just appears once. Sets take all kinds of variables from strings to complex numbers. Lets first create an empty set and check what methods you can apply to it using the dir() command."
   ]
  },
  {
   "cell_type": "code",
   "execution_count": 30,
   "metadata": {},
   "outputs": [],
   "source": [
    "my_set = set()\n",
    "#dir(my_set)"
   ]
  },
  {
   "cell_type": "markdown",
   "metadata": {},
   "source": [
    "Now we want to fill our set with values. A good way to do this is to use the 'add' method. However add only lets you add one element add a time. so lets quickly create a new set with some values and add 42."
   ]
  },
  {
   "cell_type": "code",
   "execution_count": 32,
   "metadata": {},
   "outputs": [],
   "source": [
    "my_set = {2.7182, 'a string', True}\n",
    "my_set.add(42)"
   ]
  },
  {
   "cell_type": "code",
   "execution_count": 33,
   "metadata": {},
   "outputs": [
    {
     "data": {
      "text/plain": [
       "{2.7182, 42, True, 'a string'}"
      ]
     },
     "execution_count": 33,
     "metadata": {},
     "output_type": "execute_result"
    }
   ],
   "source": [
    "my_set"
   ]
  },
  {
   "cell_type": "markdown",
   "metadata": {},
   "source": [
    "Note that although we added 42 as the last element to the set it appears second. This is because other than with lists or tuples in sets the order of elements doesnt matter. Also try again to add the number 42 to the set and see what happens."
   ]
  },
  {
   "cell_type": "code",
   "execution_count": null,
   "metadata": {},
   "outputs": [],
   "source": []
  },
  {
   "cell_type": "markdown",
   "metadata": {},
   "source": [
    "not too much right? This is because other than lists or tuples sets cant contain the same element multiple times.\n",
    "\n",
    "There are different methods to deal elements from a set. Such as add or remove.\n",
    "To get an overview what each of these do you can call the help() function.\n",
    "\n",
    "Try: \n",
    "\n",
    "    help(my_set.remove)\n",
    "    \n",
    "and compare that with:\n",
    "\n",
    "    help(my_set.discard)\n",
    "    \n",
    "How do the two options differ? And when could it be useful to use one over the other?"
   ]
  },
  {
   "cell_type": "code",
   "execution_count": null,
   "metadata": {},
   "outputs": [],
   "source": []
  }
 ],
 "metadata": {
  "kernelspec": {
   "display_name": "Python 3",
   "language": "python",
   "name": "python3"
  },
  "language_info": {
   "codemirror_mode": {
    "name": "ipython",
    "version": 3
   },
   "file_extension": ".py",
   "mimetype": "text/x-python",
   "name": "python",
   "nbconvert_exporter": "python",
   "pygments_lexer": "ipython3",
   "version": "3.9.0"
  }
 },
 "nbformat": 4,
 "nbformat_minor": 2
}
