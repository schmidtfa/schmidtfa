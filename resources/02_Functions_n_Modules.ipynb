{
 "cells": [
  {
   "cell_type": "markdown",
   "metadata": {},
   "source": [
    "## Create and Use Functions & Modules\n",
    "\n",
    "If we want to employ Python for a specific use case we usually import Modules or Functions that do the job for us.\n",
    "But what happens in the case that there is no function or module that helps us with our problem.\n",
    "Right we create our own. In this Block I will show you how to write functions and use modules in Python.\n",
    "\n",
    "If we want to know which Functions or Modules are currently available use the dir() function."
   ]
  },
  {
   "cell_type": "code",
   "execution_count": 2,
   "metadata": {},
   "outputs": [
    {
     "data": {
      "text/plain": [
       "['In',\n",
       " 'Out',\n",
       " '_',\n",
       " '__',\n",
       " '___',\n",
       " '__builtin__',\n",
       " '__builtins__',\n",
       " '__doc__',\n",
       " '__loader__',\n",
       " '__name__',\n",
       " '__package__',\n",
       " '__spec__',\n",
       " '_dh',\n",
       " '_i',\n",
       " '_i1',\n",
       " '_i2',\n",
       " '_ih',\n",
       " '_ii',\n",
       " '_iii',\n",
       " '_oh',\n",
       " 'exit',\n",
       " 'get_ipython',\n",
       " 'quit']"
      ]
     },
     "execution_count": 2,
     "metadata": {},
     "output_type": "execute_result"
    }
   ],
   "source": [
    "dir()"
   ]
  },
  {
   "cell_type": "markdown",
   "metadata": {},
   "source": [
    "Now we can create our first function named after the famous Pokemon Magikarp and just like Magikarp it does not too much.."
   ]
  },
  {
   "cell_type": "code",
   "execution_count": 3,
   "metadata": {},
   "outputs": [],
   "source": [
    "def magikarp():\n",
    "    pass"
   ]
  },
  {
   "cell_type": "markdown",
   "metadata": {},
   "source": [
    "Use the next cell to call dir() again and see if the function now appears. \n",
    "Also you can try running the function by typing magikarp()"
   ]
  },
  {
   "cell_type": "code",
   "execution_count": null,
   "metadata": {},
   "outputs": [],
   "source": []
  },
  {
   "cell_type": "markdown",
   "metadata": {},
   "source": [
    "We can also assign a return statement to a function to recieve an output. However this is not necessary."
   ]
  },
  {
   "cell_type": "code",
   "execution_count": 4,
   "metadata": {},
   "outputs": [],
   "source": [
    "def magikarp():\n",
    "    return 'Magikarp used splash! But nothing happened!'"
   ]
  },
  {
   "cell_type": "markdown",
   "metadata": {},
   "source": [
    "Try calling the function again to see if the output changed"
   ]
  },
  {
   "cell_type": "code",
   "execution_count": 5,
   "metadata": {},
   "outputs": [
    {
     "data": {
      "text/plain": [
       "'Magikarp used splash! But nothing happened!'"
      ]
     },
     "execution_count": 5,
     "metadata": {},
     "output_type": "execute_result"
    }
   ],
   "source": [
    "magikarp()"
   ]
  },
  {
   "cell_type": "markdown",
   "metadata": {},
   "source": [
    "### Function Challenge\n",
    "\n",
    "Remember the For-Loop Challenge? Wrap the loop into a function with 1 input argument. \n",
    "This argument should determine the total amount of iterations for the loop."
   ]
  },
  {
   "cell_type": "code",
   "execution_count": null,
   "metadata": {},
   "outputs": [],
   "source": []
  },
  {
   "cell_type": "markdown",
   "metadata": {},
   "source": [
    "Now lets do something more serious. Lets create a function that estimates the area of a circle\n",
    "\n",
    "To do that first import the math package to get the function pi"
   ]
  },
  {
   "cell_type": "code",
   "execution_count": 6,
   "metadata": {},
   "outputs": [
    {
     "data": {
      "text/plain": [
       "['__doc__',\n",
       " '__file__',\n",
       " '__loader__',\n",
       " '__name__',\n",
       " '__package__',\n",
       " '__spec__',\n",
       " 'acos',\n",
       " 'acosh',\n",
       " 'asin',\n",
       " 'asinh',\n",
       " 'atan',\n",
       " 'atan2',\n",
       " 'atanh',\n",
       " 'ceil',\n",
       " 'comb',\n",
       " 'copysign',\n",
       " 'cos',\n",
       " 'cosh',\n",
       " 'degrees',\n",
       " 'dist',\n",
       " 'e',\n",
       " 'erf',\n",
       " 'erfc',\n",
       " 'exp',\n",
       " 'expm1',\n",
       " 'fabs',\n",
       " 'factorial',\n",
       " 'floor',\n",
       " 'fmod',\n",
       " 'frexp',\n",
       " 'fsum',\n",
       " 'gamma',\n",
       " 'gcd',\n",
       " 'hypot',\n",
       " 'inf',\n",
       " 'isclose',\n",
       " 'isfinite',\n",
       " 'isinf',\n",
       " 'isnan',\n",
       " 'isqrt',\n",
       " 'lcm',\n",
       " 'ldexp',\n",
       " 'lgamma',\n",
       " 'log',\n",
       " 'log10',\n",
       " 'log1p',\n",
       " 'log2',\n",
       " 'modf',\n",
       " 'nan',\n",
       " 'nextafter',\n",
       " 'perm',\n",
       " 'pi',\n",
       " 'pow',\n",
       " 'prod',\n",
       " 'radians',\n",
       " 'remainder',\n",
       " 'sin',\n",
       " 'sinh',\n",
       " 'sqrt',\n",
       " 'tan',\n",
       " 'tanh',\n",
       " 'tau',\n",
       " 'trunc',\n",
       " 'ulp']"
      ]
     },
     "execution_count": 6,
     "metadata": {},
     "output_type": "execute_result"
    }
   ],
   "source": [
    "import math\n",
    "dir(math)"
   ]
  },
  {
   "cell_type": "markdown",
   "metadata": {},
   "source": [
    "Now lets create a function that calculates the area of a circle for you. It is common practice to specify a docstring in the beginning of the function in order to explain what the function does. When you call help(area_circle) after defining it you will see the information specified in the docstring."
   ]
  },
  {
   "cell_type": "code",
   "execution_count": 7,
   "metadata": {},
   "outputs": [],
   "source": [
    "def area_circle(r):\n",
    "    \n",
    "    '''This function returns the area of a circle based on the Radius (r)'''\n",
    "    \n",
    "    A=r**2*math.pi\n",
    "    \n",
    "    return 'The area of the circle is %f' % A"
   ]
  },
  {
   "cell_type": "markdown",
   "metadata": {},
   "source": [
    "Now try to call our function to calculate the area of a circle with radius 3. Also \n",
    "check what happens when you give no input and try to call the help function on area_circle."
   ]
  },
  {
   "cell_type": "code",
   "execution_count": 8,
   "metadata": {},
   "outputs": [
    {
     "name": "stdout",
     "output_type": "stream",
     "text": [
      "Help on function area_circle in module __main__:\n",
      "\n",
      "area_circle(r)\n",
      "    This function returns the area of a circle based on the Radius (r)\n",
      "\n"
     ]
    }
   ],
   "source": [
    "help(area_circle)"
   ]
  },
  {
   "cell_type": "markdown",
   "metadata": {},
   "source": [
    "Functions can take more than only one input argument. In the next cell try to create a function that gives you the area of a triangle. The area of a triangle is calculated as: \n",
    "        \n",
    "        Area = 0.5 * Base * Height\n",
    "        \n",
    "If you have a solution you can compare it to mine by removing the X of the cell underneath and running the cell"
   ]
  },
  {
   "cell_type": "code",
   "execution_count": null,
   "metadata": {},
   "outputs": [],
   "source": []
  },
  {
   "cell_type": "markdown",
   "metadata": {},
   "source": [
    "In general Functions can be used with two different kinds of input parameters. So far we only used parameters that had to be defined, but there are also so-called default parameters. If we call a function with a default parameter without specifying a parameter the default parameter will be used."
   ]
  },
  {
   "cell_type": "code",
   "execution_count": 10,
   "metadata": {},
   "outputs": [],
   "source": [
    "def my_name(name='slim shady'):\n",
    "    \n",
    "    '''This function prints the name of the godfather of rap (if not specified otherwise)'''\n",
    "    \n",
    "    print('My name is %s' % name)"
   ]
  },
  {
   "cell_type": "code",
   "execution_count": 11,
   "metadata": {},
   "outputs": [
    {
     "name": "stdout",
     "output_type": "stream",
     "text": [
      "My name is slim shady\n"
     ]
    }
   ],
   "source": [
    "my_name()"
   ]
  },
  {
   "cell_type": "code",
   "execution_count": null,
   "metadata": {},
   "outputs": [],
   "source": []
  },
  {
   "cell_type": "markdown",
   "metadata": {},
   "source": [
    "## Lambdas (anonymous functions)\n",
    "\n",
    "Sometimes you just want to do a very simple operation, so you are unsure whether its worth defining a function for it. But you kinda need to do the operation multiple times and you don't want to repeat your code. In that case lambdas are your friend. Lambdas are anonymous functions they are called anonymous, because they are defined without a name. Although they can be bound to a name. A lambda function can take any number of arguments, but can only have one expression.\n",
    "\n",
    "    lambda arguments : expression\n",
    "    \n",
    "Or (and this is probably the more reasonable case for a lambda) You want to define a function that can return a function."
   ]
  },
  {
   "cell_type": "code",
   "execution_count": 34,
   "metadata": {},
   "outputs": [
    {
     "name": "stdout",
     "output_type": "stream",
     "text": [
      "8 your number is now in a string\n"
     ]
    }
   ],
   "source": [
    "num2string = lambda x : str(x) + ' your number is now in a string'\n",
    "\n",
    "print(num2string(8))\n",
    "\n",
    "#Create a function that can return a function using a lambda expression\n",
    "def my_multiplier(n):\n",
    "    return lambda a : a * n\n",
    "\n",
    "mydoubler = my_multiplier(2)\n",
    "mytripler = my_multiplier(3)"
   ]
  },
  {
   "cell_type": "code",
   "execution_count": 30,
   "metadata": {},
   "outputs": [
    {
     "name": "stdout",
     "output_type": "stream",
     "text": [
      "20\n",
      "30\n"
     ]
    }
   ],
   "source": [
    "print(mydoubler(10))\n",
    "print(mytripler(10))"
   ]
  },
  {
   "cell_type": "markdown",
   "metadata": {},
   "source": [
    "## Modules\n",
    "\n",
    "Sometimes creating a single function is not enough and it can be quite tedious to call each function separately.\n",
    "In order to avoid this annoying problem functions can be put in modules. So instead of calling each function seperately you can simply import a module like \"math\" to get immediate access to many different functions. in the Next part of this tutorial we will have look at a super useful Module called numpy.\n",
    "\n",
    "\n",
    "## How to work with matrices\n",
    "   Our goal is to analyse MEG data (probably not true for everyone :D )\n",
    "   This kind of data is commonly represented as a matrix. A matrix has a certain number of rows and columns. Each cell\n",
    "   contains one number which in the case of MEG data is the current magnetic\n",
    "   field in either Tesla (for magnetometers) or Tesla/meter for gradiometers.\n",
    "   Each row of the matrix is one channel and each column is one sample.\n",
    "   Treating the data as a matrix has one more advantage (besides being quite\n",
    "   intuitive): Calculations on matrices are quite fast on computers because\n",
    "   algorithms and even the CPUs themselves are optimized to operate on matrices.\n",
    "\n",
    "   Unfortunately, working with matrices is NOT part of Python itself. However,\n",
    "   Python can be extended using so-called \"packages/modules\".\n",
    "   In order to use packages/modules, we need to\n",
    "\n",
    "   1. Install them. In your case, this is irrelevant as the script you are running here is basically on my laptop.\n",
    "      But if you want to do some proper analysis at home you need to install the packages using conda or pip\n",
    "   2. Import the packages you actually need in your script. This is done\n",
    "      with the import statement.\n",
    "\n",
    "The package we need for matrix operation is called numpy. There is a\n",
    "convention to \"rename\" it in scripts, this is what the \"as np\" part is for:"
   ]
  },
  {
   "cell_type": "code",
   "execution_count": 13,
   "metadata": {},
   "outputs": [],
   "source": [
    "import numpy as np"
   ]
  },
  {
   "cell_type": "markdown",
   "metadata": {},
   "source": [
    "Now we can use all the functions of numpy in our script. You can take a look at the official documentation here: https://docs.scipy.org/doc/numpy/reference/ to see what you can do with it. I will just give a few examples here.\n",
    "\n",
    "The first thing we need to do is make a matrix:"
   ]
  },
  {
   "cell_type": "code",
   "execution_count": 14,
   "metadata": {},
   "outputs": [],
   "source": [
    "my_matrix = np.array([[1, 2, 3],\n",
    "                      [4, 5, 6],\n",
    "                      [7, 8, 9],\n",
    "                      [10, 11, 12]])"
   ]
  },
  {
   "cell_type": "markdown",
   "metadata": {},
   "source": [
    "What happens here is that we create a list that contains a list for each row\n",
    "of the matrix we want to create. We then call np.array with that list and\n",
    "get a matrix with four rows and three columns in return.\n",
    "If we want to know how big our matrix is, we can ask for its shape property:"
   ]
  },
  {
   "cell_type": "code",
   "execution_count": 15,
   "metadata": {},
   "outputs": [
    {
     "data": {
      "text/plain": [
       "(4, 3)"
      ]
     },
     "execution_count": 15,
     "metadata": {},
     "output_type": "execute_result"
    }
   ],
   "source": [
    "my_matrix.shape"
   ]
  },
  {
   "cell_type": "markdown",
   "metadata": {},
   "source": [
    "You can access the elements of the matrix using the [ ] notation you already\n",
    "know from lists and dictionaries:"
   ]
  },
  {
   "cell_type": "code",
   "execution_count": 16,
   "metadata": {},
   "outputs": [
    {
     "name": "stdout",
     "output_type": "stream",
     "text": [
      "[1 2 3]\n",
      "1\n",
      "6\n",
      "[3 6 9]\n",
      "[ 2  5  8 11]\n"
     ]
    }
   ],
   "source": [
    "print(my_matrix[0]) # The first row\n",
    "print(my_matrix[0, 0]) # The element in the first row and first column\n",
    "print(my_matrix[1, 2]) # Second row, third column\n",
    "print(my_matrix[0:3, 2]) # Thirs column, the first three elements\n",
    "print(my_matrix[:, 1]) # All elements of the second column"
   ]
  },
  {
   "cell_type": "markdown",
   "metadata": {},
   "source": [
    "There are also some methods that can be applied to matrices:"
   ]
  },
  {
   "cell_type": "code",
   "execution_count": 17,
   "metadata": {},
   "outputs": [
    {
     "name": "stdout",
     "output_type": "stream",
     "text": [
      "6.5\n",
      "[5.5 6.5 7.5]\n",
      "[ 2.  5.  8. 11.]\n",
      "78\n",
      "[22 26 30]\n",
      "[ 6 15 24 33]\n"
     ]
    }
   ],
   "source": [
    "print(my_matrix.mean()) # The mean of all elements\n",
    "print(my_matrix.mean(axis=0)) # Mean over all rows\n",
    "print(my_matrix.mean(axis=1)) # Mean over columns\n",
    "\n",
    "print(my_matrix.sum())\n",
    "print(my_matrix.sum(axis=0))\n",
    "print(my_matrix.sum(axis=1))"
   ]
  },
  {
   "cell_type": "markdown",
   "metadata": {},
   "source": [
    "We can also do math with matrices"
   ]
  },
  {
   "cell_type": "code",
   "execution_count": 18,
   "metadata": {},
   "outputs": [
    {
     "name": "stdout",
     "output_type": "stream",
     "text": [
      "[[ 3  4  5]\n",
      " [ 6  7  8]\n",
      " [ 9 10 11]\n",
      " [12 13 14]]\n"
     ]
    }
   ],
   "source": [
    "new_matrix = my_matrix + 2 # Create a new matrix with all the elements of the old one +2\n",
    "print(new_matrix)"
   ]
  },
  {
   "cell_type": "markdown",
   "metadata": {},
   "source": [
    "## The difference between assignments and copys\n",
    "In most cases, python variables do NOT contain the actual values but just\n",
    "the address of the element in the RAM of the computer. This is the case\n",
    "for all variables that are more complex than holding a single value or a\n",
    "single string.\n",
    "I.e. it is the case for:\n",
    "   * lists\n",
    "   * dictionaries\n",
    "   * matrices\n",
    "   * any Python object we are going to use in the next script.\n",
    "\n",
    "Here is an example"
   ]
  },
  {
   "cell_type": "code",
   "execution_count": 19,
   "metadata": {},
   "outputs": [
    {
     "name": "stdout",
     "output_type": "stream",
     "text": [
      "[1, 2, 999, 4]\n"
     ]
    }
   ],
   "source": [
    "first_list = [1, 2, 3, 4]\n",
    "second_list = first_list\n",
    "second_list[2] = 999\n",
    "\n",
    "print(first_list)"
   ]
  },
  {
   "cell_type": "markdown",
   "metadata": {},
   "source": [
    "You can see that although we modified second_list, we see the change\n",
    "even when we look at first_list.\n",
    "The reason is that when we did this:\n",
    "    \n",
    "    second_list = first_list\n",
    "    \n",
    "We only said: \"second_list shall point to the same list as first_list\"\n",
    "\n",
    "If you want a real copy of an object (i.e. list, dictionary, matrix),\n",
    "you can either see whether that object has a copy method like the matrices:"
   ]
  },
  {
   "cell_type": "code",
   "execution_count": 20,
   "metadata": {},
   "outputs": [],
   "source": [
    "copied_matrix = my_matrix.copy()"
   ]
  },
  {
   "cell_type": "markdown",
   "metadata": {},
   "source": [
    "Or if they do not, you can use the copy package of python, which you need\n",
    "to import first:"
   ]
  },
  {
   "cell_type": "code",
   "execution_count": 21,
   "metadata": {},
   "outputs": [
    {
     "name": "stdout",
     "output_type": "stream",
     "text": [
      "[1, 2, 999, 4]\n",
      "[1, 2, 666, 4]\n"
     ]
    }
   ],
   "source": [
    "import copy\n",
    "\n",
    "third_list = copy.copy(first_list)\n",
    "third_list[2] = 666\n",
    "\n",
    "print(first_list)\n",
    "print(third_list)"
   ]
  },
  {
   "cell_type": "markdown",
   "metadata": {},
   "source": [
    "## Context Managers -- Efficiently handling resources in Python\n",
    "\n",
    "If you work with files using a context manager might be a good idea. \n",
    "Context managers handle the tear down of the resources automatically -> So no need to close files. This can be quite useful. As it saves resources. here are two different ways of writing somethin to a file.\n"
   ]
  },
  {
   "cell_type": "code",
   "execution_count": 24,
   "metadata": {},
   "outputs": [],
   "source": [
    "#open, write and close a file\n",
    "f = open('sample.txt', 'w')\n",
    "f.write('This is super boring..')\n",
    "f.close()\n",
    "\n",
    "#do the same using a context manager\n",
    "with open('sample2.txt', 'w') as f:\n",
    "    f.write('This is still super boring')"
   ]
  },
  {
   "cell_type": "markdown",
   "metadata": {},
   "source": [
    "This is not only useful for files, but also for working with databases etc. In Python you can even define your own context manager if you want to. However, for now we will just hijack pythons 'with' statement. Using the with statement is something thats important if using pymc ;). Everything that happens in the scope of with is happening \"with\"-in that context. If you want to do something with the file you need to either open it again and close it separately or use the with statement again"
   ]
  },
  {
   "cell_type": "code",
   "execution_count": 28,
   "metadata": {},
   "outputs": [
    {
     "name": "stdout",
     "output_type": "stream",
     "text": [
      "This is still super boring\n"
     ]
    }
   ],
   "source": [
    "with open('sample2.txt', 'r') as f:\n",
    "    print(f.read())"
   ]
  },
  {
   "cell_type": "code",
   "execution_count": null,
   "metadata": {},
   "outputs": [],
   "source": []
  }
 ],
 "metadata": {
  "kernelspec": {
   "display_name": "Python 3",
   "language": "python",
   "name": "python3"
  },
  "language_info": {
   "codemirror_mode": {
    "name": "ipython",
    "version": 3
   },
   "file_extension": ".py",
   "mimetype": "text/x-python",
   "name": "python",
   "nbconvert_exporter": "python",
   "pygments_lexer": "ipython3",
   "version": "3.9.0"
  }
 },
 "nbformat": 4,
 "nbformat_minor": 2
}
